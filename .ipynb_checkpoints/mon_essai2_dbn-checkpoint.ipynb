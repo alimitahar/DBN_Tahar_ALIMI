{
 "cells": [
  {
   "cell_type": "code",
   "execution_count": 2,
   "metadata": {},
   "outputs": [],
   "source": [
    "import numpy as np\n",
    "from sklearn.neural_network import BernoulliRBM as rbm"
   ]
  },
  {
   "cell_type": "code",
   "execution_count": 3,
   "metadata": {},
   "outputs": [],
   "source": [
    "def cdk(rbm, minibatch, k=1):\n",
    "    # Mise-à-jour de la matrice qui mémorise les modifications précédentes\n",
    "    rbm.M = rbm.momentum*rbm.M + (rbm.learning_rate*positiveGradient - rbm.learning_rate*negativeGradient)\n",
    "    rbm.W = rbm.W + rbm.M"
   ]
  },
  {
   "cell_type": "code",
   "execution_count": 4,
   "metadata": {},
   "outputs": [],
   "source": [
    "def propagate_up(dbn, layers_count, visible):\n",
    "    for i in range(layers_count):\n",
    "        visible = append_ones(sigmoid(visible @ dbn[i].W[:, :-1]))\n",
    "    return visible\n",
    "\n",
    "\n",
    "def propagate_down(dbn, layers_count, hidden):\n",
    "    for i in reversed(range(layers_count)):\n",
    "        hidden = append_ones(sigmoid(hidden @ np.transpose(dbn[i].W[:-1, :])))\n",
    "    return hidden"
   ]
  },
  {
   "cell_type": "code",
   "execution_count": 5,
   "metadata": {},
   "outputs": [],
   "source": [
    "def dbn_reconstuction_error(dbn, layers_count, minibatch):\n",
    "    # Propager l’erreur jusqu’à la couche la plus haute\n",
    "    propagated = propagate_up(dbn, layers_count, minibatch) \n",
    "    # Reconstruire le taux d’erreurs du DBN \n",
    "    return reconstuction_error(dbn[layers_count], propagated) "
   ]
  },
  {
   "cell_type": "code",
   "execution_count": 6,
   "metadata": {},
   "outputs": [],
   "source": [
    "def sample_rbm(rbm, minibatch, steps):\n",
    "    observations_count = minibatch.shape[0]\n",
    "    visible = minibatch\n",
    "    hidden = append_ones(zeros(observations_count, rbm.hidden_size))\n",
    "    for cd_i in range(steps):\n",
    "        hidden[:, :-1] = sigmoid(visible @ rbm.W[:, :-1])\n",
    "        hidden[:, :-1] = (hidden[:, :-1] > rand(observations_count,rbm.hidden_size)).astype(np.float32)\n",
    "        visible[:, :-1] = sigmoid(hidden @ np.transpose(rbm.W[:-1, :]))\n",
    "        if cd_i < (steps - 1):\n",
    "            visible[:, :-1] = (visible[:, :-1] > rand(observations_count,rbm.visible_size)).astype(np.float32)\n",
    "    return visible"
   ]
  },
  {
   "cell_type": "code",
   "execution_count": 7,
   "metadata": {},
   "outputs": [],
   "source": [
    "def sample_dbn(dbn, layer_idx, minibatch, steps):\n",
    "    # Propager l’erreur jusqu’à la couche la plus haute\n",
    "    sample = propagate_up(dbn, layer_idx, minibatch) \n",
    "    # Echantillonnage\n",
    "    sample = sample_rbm(dbn[layer_idx], sample, steps) \n",
    "    # Propager l’erreur jusqu’à la couche la plus basse\n",
    "    return propagate_down(dbn, layer_idx, sample) \n"
   ]
  },
  {
   "cell_type": "code",
   "execution_count": 8,
   "metadata": {},
   "outputs": [],
   "source": [
    "def train_dbn(dbn, layer_idx, dataset, batch_size):\n",
    "    # Se propager vers la couche suivante\n",
    "    dataset = propagate_up(dbn, layer_idx, dataset) \n",
    "    batches_limit = dataset.shape[0] / batch_size\n",
    "    for batch_idx, batch in enumerate(chunks(dataset, batch_size)):\n",
    "        # Appliquer la fonction cdk() sur la RBM courante\n",
    "        cdk(dbn[layer_idx], batch) \n",
    "        if batch_idx % round(batches_limit / 50) == 0:\n",
    "            print(\"#\", end=\"\")"
   ]
  },
  {
   "cell_type": "code",
   "execution_count": 9,
   "metadata": {},
   "outputs": [],
   "source": [
    "import numpy\n",
    "class Rbm:\n",
    "    def __init__(self, visible_size, hidden_size, learning_rate, momentum):\n",
    "        self.visible_size = visible_size\n",
    "        self.hidden_size = hidden_size\n",
    "        self.learning_rate = learning_rate\n",
    "        self.momentum = momentum\n",
    "        self.reset()\n",
    "    def reset(self):\n",
    "        self.W = np.random.normal(scale=0.01, size=(self.visible_size+1,self.hidden_size+1)).astype(np.float32)\n",
    "        self.W[:, -1] = 0.0\n",
    "        self.W[-1, :] = 0.0\n",
    "        self.M = np.zeros(self.visible_size+1, self.hidden_size+1) "
   ]
  },
  {
   "cell_type": "code",
   "execution_count": null,
   "metadata": {},
   "outputs": [],
   "source": []
  },
  {
   "cell_type": "markdown",
   "metadata": {},
   "source": [
    "# Gradient Descent Optimization With Nesterov Momentum"
   ]
  },
  {
   "cell_type": "code",
   "execution_count": 10,
   "metadata": {},
   "outputs": [
    {
     "name": "stdout",
     "output_type": "stream",
     "text": [
      ">0 f([-0.13276479  0.35251919]) = 0.14190\n",
      ">1 f([-0.09824595  0.2608642 ]) = 0.07770\n",
      ">2 f([-0.07031223  0.18669416]) = 0.03980\n",
      ">3 f([-0.0495457   0.13155452]) = 0.01976\n",
      ">4 f([-0.03465259  0.0920101 ]) = 0.00967\n",
      ">5 f([-0.02414772  0.06411742]) = 0.00469\n",
      ">6 f([-0.01679701  0.04459969]) = 0.00227\n",
      ">7 f([-0.01167344  0.0309955 ]) = 0.00110\n",
      ">8 f([-0.00810909  0.02153139]) = 0.00053\n",
      ">9 f([-0.00563183  0.01495373]) = 0.00026\n",
      ">10 f([-0.00391092  0.01038434]) = 0.00012\n",
      ">11 f([-0.00271572  0.00721082]) = 0.00006\n",
      ">12 f([-0.00188573  0.00500701]) = 0.00003\n",
      ">13 f([-0.00130938  0.0034767 ]) = 0.00001\n",
      ">14 f([-0.00090918  0.00241408]) = 0.00001\n",
      ">15 f([-0.0006313   0.00167624]) = 0.00000\n",
      ">16 f([-0.00043835  0.00116391]) = 0.00000\n",
      ">17 f([-0.00030437  0.00080817]) = 0.00000\n",
      ">18 f([-0.00021134  0.00056116]) = 0.00000\n",
      ">19 f([-0.00014675  0.00038964]) = 0.00000\n",
      ">20 f([-0.00010189  0.00027055]) = 0.00000\n",
      ">21 f([-7.07505806e-05  1.87858067e-04]) = 0.00000\n",
      ">22 f([-4.91260884e-05  1.30440372e-04]) = 0.00000\n",
      ">23 f([-3.41109926e-05  9.05720503e-05]) = 0.00000\n",
      ">24 f([-2.36851711e-05  6.28892431e-05]) = 0.00000\n",
      ">25 f([-1.64459397e-05  4.36675208e-05]) = 0.00000\n",
      ">26 f([-1.14193362e-05  3.03208033e-05]) = 0.00000\n",
      ">27 f([-7.92908415e-06  2.10534304e-05]) = 0.00000\n",
      ">28 f([-5.50560682e-06  1.46185748e-05]) = 0.00000\n",
      ">29 f([-3.82285090e-06  1.01504945e-05]) = 0.00000\n",
      "Done!\n",
      "f([-3.82285090e-06  1.01504945e-05]) = 0.000000\n"
     ]
    }
   ],
   "source": [
    "from math import sqrt\n",
    "from numpy import asarray\n",
    "from numpy.random import rand\n",
    "from numpy.random import seed\n",
    " \n",
    "# objective function\n",
    "# Fonction qui enlève au carrées les entrées\n",
    "def objective(x, y):\n",
    "\treturn x**2.0 + y**2.0\n",
    "\n",
    "# Pour appliquer le \"Gradient Descent\" avec le Momentum, on aura besoin d'une fonction \"Derivate\"\n",
    "# derivative of objective function\n",
    "# La dérivée de x^2 est x*2 pour chaque dimension\n",
    "def derivative(x, y):\n",
    "\treturn asarray([x * 2.0, y * 2.0])\n",
    " \n",
    "# gradient descent algorithm with nesterov momentum\n",
    "def nesterov(objective, derivative, bounds, n_iter, step_size, momentum):\n",
    "\t# generate an initial point : Ce point peut être généré aléatoirement\n",
    "    # Deux colonnes :  La 1ère con,tient le min, la 2ème contient le max de chaque dimension\n",
    "\tsolution = bounds[:, 0] + rand(len(bounds)) * (bounds[:, 1] - bounds[:, 0])\n",
    "\t# list of changes made to each variable\n",
    "\tchange = [0.0 for _ in range(bounds.shape[0])]\n",
    "\t# run the gradient descent\n",
    "\tfor it in range(n_iter):\n",
    "\t\t# calculate the projected solution\n",
    "        # le nouveau point est calculé en fonction de la position actuelle\n",
    "\t\tprojected = [solution[i] + momentum * change[i] for i in range(solution.shape[0])]\n",
    "        # On calcule sa dérivée\n",
    "\t\t# calculate the gradient for the projection\n",
    "\t\tgradient = derivative(projected[0], projected[1])\n",
    "\t\t# build a solution one variable at a time\n",
    "\t\tnew_solution = list()\n",
    "        # Chaque valeur est calculée en fonction de celle qui la précède \n",
    "        # Cela se fait pour toutes les variables de la fonction \"objective()\"\n",
    "        # puis, comme ci-dessous, pour toute itération de l'algorithme\n",
    "\t\tfor i in range(solution.shape[0]):\n",
    "\t\t\t# calculate the change\n",
    "\t\t\tchange[i] = (momentum * change[i]) - step_size * gradient[i]\n",
    "\t\t\t# calculate the new position in this variable\n",
    "\t\t\tvalue = solution[i] + change[i]\n",
    "\t\t\t# store this variable\n",
    "\t\t\tnew_solution.append(value)\n",
    "\t\t# Evaluer la solution en se servant de la fonction \"objective()\"\n",
    "\t\tsolution = asarray(new_solution)\n",
    "\t\tsolution_eval = objective(solution[0], solution[1])\n",
    "\t\t# report progress\n",
    "\t\tprint('>%d f(%s) = %.5f' % (it, solution, solution_eval))\n",
    "\treturn [solution, solution_eval]\n",
    " \n",
    "# seed the pseudo random number generator\n",
    "seed(1)\n",
    "# define range for input\n",
    "bounds = asarray([[-1.0, 1.0], [-1.0, 1.0]])\n",
    "# define the total iterations\n",
    "n_iter = 30 # itérer 30 fois avec un \"learning rate = 0.1\" et un \"momentum = 0.3\"\n",
    "# define the step size\n",
    "step_size = 0.1\n",
    "# define momentum\n",
    "momentum = 0.3\n",
    "# perform the gradient descent search with nesterov momentum\n",
    "best, score = nesterov(objective, derivative, bounds, n_iter, step_size, momentum)\n",
    "print('Done!')\n",
    "print('f(%s) = %f' % (best, score))"
   ]
  },
  {
   "cell_type": "markdown",
   "metadata": {},
   "source": [
    "# Visualization of Nesterov Momentum"
   ]
  },
  {
   "cell_type": "markdown",
   "metadata": {},
   "source": [
    "Pour visualiser la progression du momentum, il faut retourner les solutions trouvées dans les différentes itérations dans une liste"
   ]
  },
  {
   "cell_type": "code",
   "execution_count": 60,
   "metadata": {},
   "outputs": [],
   "source": [
    "\n",
    "# example of plotting the nesterov momentum search on a contour plot of the test function\n",
    "from math import sqrt\n",
    "from numpy import asarray\n",
    "from numpy import arange\n",
    "from numpy.random import rand\n",
    "from numpy.random import seed\n",
    "from numpy import meshgrid\n",
    "from matplotlib import pyplot\n",
    "from mpl_toolkits.mplot3d import Axes3D\n",
    " \n",
    "# objective function\n",
    "def objective(x, y):\n",
    "\treturn x**2.0 + y**2.0\n",
    " \n",
    "# derivative of objective function\n",
    "def derivative(x, y):\n",
    "\treturn asarray([x * 2.0, y * 2.0])\n",
    " \n",
    "# gradient descent algorithm with nesterov momentum\n",
    "def nesterov(objective, derivative, bounds, n_iter, step_size, momentum):\n",
    "\t# track all solutions\n",
    "\tsolutions = list()\n",
    "\t# generate an initial point\n",
    "\tsolution = bounds[:, 0] + rand(len(bounds)) * (bounds[:, 1] - bounds[:, 0])\n",
    "\t# list of changes made to each variable\n",
    "\tchange = [0.0 for _ in range(bounds.shape[0])]\n",
    "\t# run the gradient descent\n",
    "\tfor it in range(n_iter):\n",
    "\t\t# calculate the projected solution\n",
    "\t\tprojected = [solution[i] + momentum * change[i] for i in range(solution.shape[0])]\n",
    "\t\t# calculate the gradient for the projection\n",
    "\t\tgradient = derivative(projected[0], projected[1])\n",
    "\t\t# build a solution one variable at a time\n",
    "\t\tnew_solution = list()\n",
    "\t\tfor i in range(solution.shape[0]):\n",
    "\t\t\t# calculate the change\n",
    "\t\t\tchange[i] = (momentum * change[i]) - step_size * gradient[i]\n",
    "\t\t\t# calculate the new position in this variable\n",
    "\t\t\tvalue = solution[i] + change[i]\n",
    "\t\t\t# store this variable\n",
    "\t\t\tnew_solution.append(value)\n",
    "\t\t# store the new solution\n",
    "\t\tsolution = asarray(new_solution)\n",
    "\t\tsolutions.append(solution)\n",
    "\t\t# evaluate candidate point\n",
    "\t\tsolution_eval = objective(solution[0], solution[1])\n",
    "\t\t# report progress\n",
    "\t\tprint('>%d f(%s) = %.5f' % (it, solution, solution_eval))\n",
    "\treturn solutions"
   ]
  },
  {
   "cell_type": "code",
   "execution_count": 61,
   "metadata": {},
   "outputs": [
    {
     "name": "stdout",
     "output_type": "stream",
     "text": [
      ">0 f([-0.16263687  0.43183601]) = 0.21293\n",
      ">1 f([-0.15678194  0.41628991]) = 0.19788\n",
      ">2 f([-0.14905604  0.39577597]) = 0.17886\n",
      ">3 f([-0.14001781  0.37177753]) = 0.15782\n",
      ">4 f([-0.13013149  0.34552719]) = 0.13632\n",
      ">5 f([-0.11977798  0.31803639]) = 0.11549\n",
      ">6 f([-0.10926527  0.29012287]) = 0.09611\n",
      ">7 f([-0.09883799  0.26243621]) = 0.07864\n",
      ">8 f([-0.08868625  0.23548115]) = 0.06332\n",
      ">9 f([-0.07895356  0.20963876]) = 0.05018\n",
      ">10 f([-0.06974406  0.18518555]) = 0.03916\n",
      ">11 f([-0.06112894  0.16231052]) = 0.03008\n",
      ">12 f([-0.0531521   0.14113029]) = 0.02274\n",
      ">13 f([-0.04583521  0.12170238]) = 0.01691\n",
      ">14 f([-0.03918207  0.10403685]) = 0.01236\n",
      ">15 f([-0.03318236  0.08810634]) = 0.00886\n",
      ">16 f([-0.02781495  0.0738547 ]) = 0.00623\n",
      ">17 f([-0.0230506   0.06120431]) = 0.00428\n",
      ">18 f([-0.01885433  0.05006232]) = 0.00286\n",
      ">19 f([-0.01518737  0.04032576]) = 0.00186\n",
      ">20 f([-0.01200873  0.03188577]) = 0.00116\n",
      ">21 f([-0.0092765   0.02463111]) = 0.00069\n",
      ">22 f([-0.0069489   0.01845084]) = 0.00039\n",
      ">23 f([-0.00498509  0.01323648]) = 0.00020\n",
      ">24 f([-0.00334575  0.0088837 ]) = 0.00009\n",
      ">25 f([-0.0019936   0.00529344]) = 0.00003\n",
      ">26 f([-0.00089364  0.00237281]) = 0.00001\n",
      ">27 f([-1.34014200e-05  3.55836635e-05]) = 0.00000\n",
      ">28 f([ 0.00067698 -0.00179752]) = 0.00000\n",
      ">29 f([ 0.00120469 -0.00319872]) = 0.00001\n",
      ">30 f([ 0.00159433 -0.00423328]) = 0.00002\n",
      ">31 f([ 0.00186791 -0.00495972]) = 0.00003\n",
      ">32 f([ 0.00204505 -0.00543005]) = 0.00003\n",
      ">33 f([ 0.00214302 -0.00569019]) = 0.00004\n",
      ">34 f([ 0.00217697 -0.00578033]) = 0.00004\n",
      ">35 f([ 0.00216005 -0.0057354 ]) = 0.00004\n",
      ">36 f([ 0.00210358 -0.00558546]) = 0.00004\n",
      ">37 f([ 0.00201724 -0.0053562 ]) = 0.00003\n",
      ">38 f([ 0.0019092  -0.00506934]) = 0.00003\n",
      ">39 f([ 0.00178631 -0.00474305]) = 0.00003\n",
      ">40 f([ 0.00165425 -0.00439238]) = 0.00002\n",
      ">41 f([ 0.00151762 -0.00402961]) = 0.00002\n",
      ">42 f([ 0.00138015 -0.0036646 ]) = 0.00002\n",
      ">43 f([ 0.00124477 -0.00330514]) = 0.00001\n",
      ">44 f([ 0.00111374 -0.00295723]) = 0.00001\n",
      ">45 f([ 0.00098874 -0.00262532]) = 0.00001\n",
      ">46 f([ 0.00087096 -0.00231259]) = 0.00001\n",
      ">47 f([ 0.0007612  -0.00202116]) = 0.00000\n",
      ">48 f([ 0.00065993 -0.00175226]) = 0.00000\n",
      ">49 f([ 0.00056733 -0.00150639]) = 0.00000\n"
     ]
    },
    {
     "data": {
      "image/png": "[encoded data removed]",
      "text/plain": [
       "<Figure size 432x288 with 1 Axes>"
      ]
     },
     "metadata": {
      "needs_background": "light"
     },
     "output_type": "display_data"
    }
   ],
   "source": [
    "# seed the pseudo random number generator\n",
    "seed(1)\n",
    "# define range for input\n",
    "bounds = asarray([[-1.0, 1.0], [-1.0, 1.0]])\n",
    "# define the total iterations\n",
    "n_iter = 50\n",
    "# define the step size\n",
    "step_size = 0.01\n",
    "# define momentum\n",
    "momentum = 0.8\n",
    "# perform the gradient descent search with nesterov momentum\n",
    "solutions = nesterov(objective, derivative, bounds, n_iter, step_size, momentum)\n",
    "# sample input range uniformly at 0.1 increments\n",
    "xaxis = arange(bounds[0,0], bounds[0,1], 0.1)\n",
    "yaxis = arange(bounds[1,0], bounds[1,1], 0.1)\n",
    "# create a mesh from the axis\n",
    "x, y = meshgrid(xaxis, yaxis)\n",
    "# compute targets\n",
    "results = objective(x, y)\n",
    "# create a filled contour plot with 50 levels and jet color scheme\n",
    "pyplot.contourf(x, y, results, levels=50, cmap='jet')\n",
    "# plot the sample as black circles\n",
    "solutions = asarray(solutions)\n",
    "pyplot.plot(solutions[:, 0], solutions[:, 1], '.-', color='w')\n",
    "# show the plot\n",
    "pyplot.show()"
   ]
  },
  {
   "cell_type": "markdown",
   "metadata": {},
   "source": [
    "#### => On peut remarquer que pour chaque solution on a un point blanc jusqu'au atteindre le dernier Optima au centre"
   ]
  },
  {
   "cell_type": "code",
   "execution_count": null,
   "metadata": {},
   "outputs": [],
   "source": []
  }
 ],
 "metadata": {
  "kernelspec": {
   "display_name": "Python 3",
   "language": "python",
   "name": "python3"
  },
  "language_info": {
   "codemirror_mode": {
    "name": "ipython",
    "version": 3
   },
   "file_extension": ".py",
   "mimetype": "text/x-python",
   "name": "python",
   "nbconvert_exporter": "python",
   "pygments_lexer": "ipython3",
   "version": "3.8.5"
  }
 },
 "nbformat": 4,
 "nbformat_minor": 4
}
